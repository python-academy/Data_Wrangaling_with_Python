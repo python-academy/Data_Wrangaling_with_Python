{
 "cells": [
  {
   "cell_type": "markdown",
   "id": "e52de677-0bbd-4277-ae42-bfb242030f05",
   "metadata": {},
   "source": [
    "## Try 5.1.1: Data wrangling with Python."
   ]
  },
  {
   "cell_type": "code",
   "execution_count": null,
   "id": "fc3783a7-bfc7-4f41-ba54-df223946d734",
   "metadata": {},
   "outputs": [],
   "source": []
  },
  {
   "cell_type": "markdown",
   "id": "3004e73a-30ae-45b2-8aa9-b5194eb2bb19",
   "metadata": {},
   "source": [
    "The Python code below constructs the dataframe example. The code then displays the contents of example, displays dataframe information, selects a slice, and sorts example on the Continent column.\n",
    "\n",
    "Modify the code as follows:\n",
    "\n",
    "   * **Click the double-right arrow to restart the kernel and run all cells.**\n",
    "\n",
    "   * **In the statement example = pd.DataFrame(), add a fourth column 'OfficialLanguage' with the values in the animation above.**\n",
    "\n",
    "   * **Run the code again and verify your changes are correct.**\n",
    "\n",
    "**Now, modify the code to create a new dataframe country:**\n",
    "\n",
    "\n",
    "* **Import the file country.csv with the statement country = pd.read_csv(\"country.csv\").**\n",
    "\n",
    "* **Display country and verify the data is identical to the animation above.**\n",
    "\n",
    "* **Display dataframe information and review the data types of each column.**\n",
    "\n",
    "* **Display the population of Norway using country.at[].**\n",
    "\n",
    "**Sort country on the Continent column, ascending, and display the result.**"
   ]
  },
  {
   "cell_type": "code",
   "execution_count": 1,
   "id": "d1134d51-616a-44eb-aa59-c367f9b2c824",
   "metadata": {
    "execution": {
     "iopub.execute_input": "2023-11-02T15:28:27.754119Z",
     "iopub.status.busy": "2023-11-02T15:28:27.753757Z",
     "iopub.status.idle": "2023-11-02T15:28:28.062367Z",
     "shell.execute_reply": "2023-11-02T15:28:28.061961Z"
    },
    "tags": []
   },
   "outputs": [
    {
     "data": {
      "text/html": [
       "<div>\n",
       "<style scoped>\n",
       "    .dataframe tbody tr th:only-of-type {\n",
       "        vertical-align: middle;\n",
       "    }\n",
       "\n",
       "    .dataframe tbody tr th {\n",
       "        vertical-align: top;\n",
       "    }\n",
       "\n",
       "    .dataframe thead th {\n",
       "        text-align: right;\n",
       "    }\n",
       "</style>\n",
       "<table border=\"1\" class=\"dataframe\">\n",
       "  <thead>\n",
       "    <tr style=\"text-align: right;\">\n",
       "      <th></th>\n",
       "      <th>Country</th>\n",
       "      <th>Continent</th>\n",
       "      <th>Population</th>\n",
       "    </tr>\n",
       "  </thead>\n",
       "  <tbody>\n",
       "    <tr>\n",
       "      <th>0</th>\n",
       "      <td>China</td>\n",
       "      <td>Asia</td>\n",
       "      <td>9572900</td>\n",
       "    </tr>\n",
       "    <tr>\n",
       "      <th>1</th>\n",
       "      <td>Bangladesh</td>\n",
       "      <td>Asia</td>\n",
       "      <td>143998</td>\n",
       "    </tr>\n",
       "    <tr>\n",
       "      <th>2</th>\n",
       "      <td>Brazil</td>\n",
       "      <td>South America</td>\n",
       "      <td>8547403</td>\n",
       "    </tr>\n",
       "    <tr>\n",
       "      <th>3</th>\n",
       "      <td>Norway</td>\n",
       "      <td>Europe</td>\n",
       "      <td>358207</td>\n",
       "    </tr>\n",
       "  </tbody>\n",
       "</table>\n",
       "</div>"
      ],
      "text/plain": [
       "      Country      Continent  Population\n",
       "0       China           Asia     9572900\n",
       "1  Bangladesh           Asia      143998\n",
       "2      Brazil  South America     8547403\n",
       "3      Norway         Europe      358207"
      ]
     },
     "execution_count": 1,
     "metadata": {},
     "output_type": "execute_result"
    }
   ],
   "source": [
    "# Import Pandas package\n",
    "import pandas as pd\n",
    "\n",
    "# Construct dataframe example\n",
    "example = pd.DataFrame(\n",
    "    data=[\n",
    "        ['China', 'Asia', 9572900],\n",
    "        ['Bangladesh', 'Asia', 143998],\n",
    "        ['Brazil', 'South America', 8547403],\n",
    "        ['Norway', 'Europe', 358207],\n",
    "    ],\n",
    "    columns=['Country', 'Continent', 'Population'],\n",
    ")\n",
    "\n",
    "# Display example\n",
    "example"
   ]
  },
  {
   "cell_type": "code",
   "execution_count": 2,
   "id": "489b43ee-6054-4b0b-9a3e-f3bbb96fe3eb",
   "metadata": {
    "execution": {
     "iopub.execute_input": "2023-11-02T15:28:28.064191Z",
     "iopub.status.busy": "2023-11-02T15:28:28.064046Z",
     "iopub.status.idle": "2023-11-02T15:28:28.069053Z",
     "shell.execute_reply": "2023-11-02T15:28:28.067869Z"
    },
    "tags": []
   },
   "outputs": [
    {
     "name": "stdout",
     "output_type": "stream",
     "text": [
      "<class 'pandas.core.frame.DataFrame'>\n",
      "RangeIndex: 4 entries, 0 to 3\n",
      "Columns: 3 entries, Country to Population\n",
      "dtypes: int64(1), object(2)\n",
      "memory usage: 224.0+ bytes\n"
     ]
    }
   ],
   "source": [
    "# Show information about example\n",
    "example.info(verbose=False)"
   ]
  },
  {
   "cell_type": "code",
   "execution_count": 3,
   "id": "c54ca542-fadd-4875-8a9b-12ec8e64b6fd",
   "metadata": {
    "execution": {
     "iopub.execute_input": "2023-11-02T15:28:28.070881Z",
     "iopub.status.busy": "2023-11-02T15:28:28.070803Z",
     "iopub.status.idle": "2023-11-02T15:28:28.080717Z",
     "shell.execute_reply": "2023-11-02T15:28:28.080434Z"
    },
    "tags": []
   },
   "outputs": [
    {
     "data": {
      "text/html": [
       "<div>\n",
       "<style scoped>\n",
       "    .dataframe tbody tr th:only-of-type {\n",
       "        vertical-align: middle;\n",
       "    }\n",
       "\n",
       "    .dataframe tbody tr th {\n",
       "        vertical-align: top;\n",
       "    }\n",
       "\n",
       "    .dataframe thead th {\n",
       "        text-align: right;\n",
       "    }\n",
       "</style>\n",
       "<table border=\"1\" class=\"dataframe\">\n",
       "  <thead>\n",
       "    <tr style=\"text-align: right;\">\n",
       "      <th></th>\n",
       "      <th>Country</th>\n",
       "      <th>Continent</th>\n",
       "    </tr>\n",
       "  </thead>\n",
       "  <tbody>\n",
       "    <tr>\n",
       "      <th>1</th>\n",
       "      <td>Bangladesh</td>\n",
       "      <td>Asia</td>\n",
       "    </tr>\n",
       "    <tr>\n",
       "      <th>2</th>\n",
       "      <td>Brazil</td>\n",
       "      <td>South America</td>\n",
       "    </tr>\n",
       "    <tr>\n",
       "      <th>3</th>\n",
       "      <td>Norway</td>\n",
       "      <td>Europe</td>\n",
       "    </tr>\n",
       "  </tbody>\n",
       "</table>\n",
       "</div>"
      ],
      "text/plain": [
       "      Country      Continent\n",
       "1  Bangladesh           Asia\n",
       "2      Brazil  South America\n",
       "3      Norway         Europe"
      ]
     },
     "execution_count": 3,
     "metadata": {},
     "output_type": "execute_result"
    }
   ],
   "source": [
    "# Display rows 1 through 3 and columns Country through Continent\n",
    "example.loc[1:3, 'Country':'Continent']"
   ]
  },
  {
   "cell_type": "code",
   "execution_count": 4,
   "id": "5e2b1aef-b7a8-4f0a-a0e4-34208a40763a",
   "metadata": {
    "execution": {
     "iopub.execute_input": "2023-11-02T15:28:28.082151Z",
     "iopub.status.busy": "2023-11-02T15:28:28.082061Z",
     "iopub.status.idle": "2023-11-02T15:28:28.086076Z",
     "shell.execute_reply": "2023-11-02T15:28:28.085800Z"
    },
    "tags": []
   },
   "outputs": [
    {
     "data": {
      "text/html": [
       "<div>\n",
       "<style scoped>\n",
       "    .dataframe tbody tr th:only-of-type {\n",
       "        vertical-align: middle;\n",
       "    }\n",
       "\n",
       "    .dataframe tbody tr th {\n",
       "        vertical-align: top;\n",
       "    }\n",
       "\n",
       "    .dataframe thead th {\n",
       "        text-align: right;\n",
       "    }\n",
       "</style>\n",
       "<table border=\"1\" class=\"dataframe\">\n",
       "  <thead>\n",
       "    <tr style=\"text-align: right;\">\n",
       "      <th></th>\n",
       "      <th>Country</th>\n",
       "      <th>Continent</th>\n",
       "      <th>Population</th>\n",
       "    </tr>\n",
       "  </thead>\n",
       "  <tbody>\n",
       "    <tr>\n",
       "      <th>2</th>\n",
       "      <td>Brazil</td>\n",
       "      <td>South America</td>\n",
       "      <td>8547403</td>\n",
       "    </tr>\n",
       "    <tr>\n",
       "      <th>3</th>\n",
       "      <td>Norway</td>\n",
       "      <td>Europe</td>\n",
       "      <td>358207</td>\n",
       "    </tr>\n",
       "    <tr>\n",
       "      <th>0</th>\n",
       "      <td>China</td>\n",
       "      <td>Asia</td>\n",
       "      <td>9572900</td>\n",
       "    </tr>\n",
       "    <tr>\n",
       "      <th>1</th>\n",
       "      <td>Bangladesh</td>\n",
       "      <td>Asia</td>\n",
       "      <td>143998</td>\n",
       "    </tr>\n",
       "  </tbody>\n",
       "</table>\n",
       "</div>"
      ],
      "text/plain": [
       "      Country      Continent  Population\n",
       "2      Brazil  South America     8547403\n",
       "3      Norway         Europe      358207\n",
       "0       China           Asia     9572900\n",
       "1  Bangladesh           Asia      143998"
      ]
     },
     "execution_count": 4,
     "metadata": {},
     "output_type": "execute_result"
    }
   ],
   "source": [
    "# Sort example on Continent\n",
    "example.sort_values('Continent', ascending=False, inplace=True)\n",
    "\n",
    "# Display sorted data\n",
    "example"
   ]
  }
 ],
 "metadata": {
  "kernelspec": {
   "display_name": "Python [conda env:base] *",
   "language": "python",
   "name": "conda-base-py"
  },
  "language_info": {
   "codemirror_mode": {
    "name": "ipython",
    "version": 3
   },
   "file_extension": ".py",
   "mimetype": "text/x-python",
   "name": "python",
   "nbconvert_exporter": "python",
   "pygments_lexer": "ipython3",
   "version": "3.12.7"
  },
  "widgets": {
   "application/vnd.jupyter.widget-state+json": {
    "state": {},
    "version_major": 2,
    "version_minor": 0
   }
  }
 },
 "nbformat": 4,
 "nbformat_minor": 5
}
