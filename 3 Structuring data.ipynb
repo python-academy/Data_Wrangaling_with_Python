{
 "cells": [
  {
   "cell_type": "markdown",
   "id": "9351ee0b-ed00-4d5d-b693-dd41f6c6ebdf",
   "metadata": {},
   "source": [
    "## Structuring data with Python."
   ]
  },
  {
   "cell_type": "markdown",
   "id": "63cc8cc1-db10-4263-925b-6d63e3d3d2f2",
   "metadata": {},
   "source": [
    "**The Python code below standardizes and normalizes housing data.**\n",
    "\n",
    "\n",
    "* **Click the double right-arrow icon to restart the kernel and run all cells.**\n",
    "* **Add statements that display the original, standardized, and normalized data.**\n",
    "* **Verify that the original, standardized, and normalized data is the same as in the feature scaling animation above.**"
   ]
  },
  {
   "cell_type": "code",
   "execution_count": 1,
   "id": "4007c0d0-a8b8-4d6d-8e36-3e56d572a040",
   "metadata": {},
   "outputs": [
    {
     "data": {
      "text/html": [
       "<div>\n",
       "<style scoped>\n",
       "    .dataframe tbody tr th:only-of-type {\n",
       "        vertical-align: middle;\n",
       "    }\n",
       "\n",
       "    .dataframe tbody tr th {\n",
       "        vertical-align: top;\n",
       "    }\n",
       "\n",
       "    .dataframe thead th {\n",
       "        text-align: right;\n",
       "    }\n",
       "</style>\n",
       "<table border=\"1\" class=\"dataframe\">\n",
       "  <thead>\n",
       "    <tr style=\"text-align: right;\">\n",
       "      <th></th>\n",
       "      <th>Price</th>\n",
       "      <th>Age</th>\n",
       "    </tr>\n",
       "  </thead>\n",
       "  <tbody>\n",
       "    <tr>\n",
       "      <th>0</th>\n",
       "      <td>90300</td>\n",
       "      <td>14</td>\n",
       "    </tr>\n",
       "    <tr>\n",
       "      <th>1</th>\n",
       "      <td>150500</td>\n",
       "      <td>27</td>\n",
       "    </tr>\n",
       "    <tr>\n",
       "      <th>2</th>\n",
       "      <td>269500</td>\n",
       "      <td>22</td>\n",
       "    </tr>\n",
       "    <tr>\n",
       "      <th>3</th>\n",
       "      <td>98000</td>\n",
       "      <td>15</td>\n",
       "    </tr>\n",
       "    <tr>\n",
       "      <th>4</th>\n",
       "      <td>244650</td>\n",
       "      <td>28</td>\n",
       "    </tr>\n",
       "  </tbody>\n",
       "</table>\n",
       "</div>"
      ],
      "text/plain": [
       "    Price  Age\n",
       "0   90300   14\n",
       "1  150500   27\n",
       "2  269500   22\n",
       "3   98000   15\n",
       "4  244650   28"
      ]
     },
     "execution_count": 1,
     "metadata": {},
     "output_type": "execute_result"
    }
   ],
   "source": [
    "# Import packages\n",
    "import pandas as pd\n",
    "from sklearn import preprocessing\n",
    "\n",
    "# Import data into 'original'\n",
    "original = pd.read_csv('featurescaling.csv')\n",
    "\n",
    "original"
   ]
  },
  {
   "cell_type": "code",
   "execution_count": 2,
   "id": "f79777ec-19ff-4ac5-8b1c-46dcfaeeca16",
   "metadata": {},
   "outputs": [],
   "source": [
    "# Standardize dataframe and return as an array\n",
    "standardizedArray = preprocessing.scale(original)\n",
    "\n",
    "# Convert standardized array to dataframe 'standardized'\n",
    "standardized = pd.DataFrame(standardizedArray, columns=[\"Price\", \"Age\"])"
   ]
  },
  {
   "cell_type": "code",
   "execution_count": 3,
   "id": "bd6ccaf6-91ad-4cb9-9218-0a4044087196",
   "metadata": {
    "execution": {
     "iopub.execute_input": "2023-11-02T15:28:31.251260Z",
     "iopub.status.busy": "2023-11-02T15:28:31.251161Z",
     "iopub.status.idle": "2023-11-02T15:28:31.252685Z",
     "shell.execute_reply": "2023-11-02T15:28:31.252428Z"
    }
   },
   "outputs": [],
   "source": [
    "# Verify that standardized contains the expected values\n"
   ]
  },
  {
   "cell_type": "code",
   "execution_count": 5,
   "id": "19cd2cb1-3cbc-476e-bec3-0b2e37747269",
   "metadata": {},
   "outputs": [],
   "source": [
    "# Normalize dataframe and return as an array\n",
    "normalizedArray = preprocessing.MinMaxScaler().fit_transform(original)\n",
    "\n",
    "# Convert normalized array to dataframe 'normalized'\n",
    "normalized = pd.DataFrame(normalizedArray, columns=[\"Price\", \"Age\"])"
   ]
  },
  {
   "cell_type": "code",
   "execution_count": 5,
   "id": "f307939c-3e17-48a8-9b41-fcc95bf341c3",
   "metadata": {
    "execution": {
     "iopub.execute_input": "2023-11-02T15:28:31.257877Z",
     "iopub.status.busy": "2023-11-02T15:28:31.257797Z",
     "iopub.status.idle": "2023-11-02T15:28:31.259484Z",
     "shell.execute_reply": "2023-11-02T15:28:31.259214Z"
    }
   },
   "outputs": [],
   "source": [
    "# Verify that normalized contains the expected values\n"
   ]
  },
  {
   "cell_type": "markdown",
   "id": "e4e9aa96-ca97-4bc0-8b9b-1f4e34783b41",
   "metadata": {},
   "source": [
    "## CHALLENGE ACTIVITY| 5.3.2: Structuring data using scikit-learn."
   ]
  },
  {
   "cell_type": "markdown",
   "id": "0c14f958-2f4a-4555-b6ae-392225cf5bd1",
   "metadata": {},
   "source": [
    "## 1) \n",
    "**This dataset contains information on credit card customers, such as the customer's average credit limit, number of credit cards, number of physical visits to the bank, and number of visits to the bank's website.**\n",
    "\n",
    "* **Standardize the data for the features Avg_Credit_Limit and Total_visits_online.**\n",
    "  \n",
    "**The code contains all imports, loads the dataset, subsets the data, and displays five lines of the standardized data.**"
   ]
  },
  {
   "cell_type": "code",
   "execution_count": null,
   "id": "2dc47af4-bb41-48c6-9109-6eeff50a8c2b",
   "metadata": {},
   "outputs": [],
   "source": [
    "\n",
    "\n",
    "# Load the dataset\n",
    "df = pd.read_csv('credit_card.csv')\n",
    "\n",
    "# Create a new dataframe with two features\n",
    "dfCredit = df[['Avg_Credit_Limit', 'Total_visits_online']]\n",
    "\n",
    "# Standardize dataframe and return as an array\n",
    "standardizedArray = # Your code goes here\n",
    "\n",
    "# Convert standardized array to dataframe\n",
    "dfCreditStandardized = pd.DataFrame(standardizedArray, columns=['Avg_Credit_Limit', 'Total_visits_online'])\n",
    "\n",
    "# Print five lines of the standardized data\n",
    "print(dfCreditStandardized[511:516])"
   ]
  },
  {
   "cell_type": "markdown",
   "id": "df098ce0-6214-42b1-9339-f812e0be0da1",
   "metadata": {},
   "source": [
    "## 2)\n",
    "**This dataset contains information on credit card customers, such as the customer's average credit limit, number of credit cards, number of physical visits to the bank, and number of visits to the bank's website.**\n",
    "\n",
    "* **Normalize the data for the features Avg_Credit_Limit and Total_visits_online.**\n",
    "\n",
    "  \n",
    "**The code contains all imports, loads the dataset, subsets the data, and displays five lines of the normalized data.**"
   ]
  },
  {
   "cell_type": "code",
   "execution_count": null,
   "id": "236ce344-9284-4104-b471-ebdcb20a3b82",
   "metadata": {},
   "outputs": [],
   "source": [
    "\n",
    "\n",
    "# Create a new dataframe with two features\n",
    "ccOriginal = df[['Avg_Credit_Limit', 'Total_visits_online']]\n",
    "\n",
    "# Normalize dataframe and return as an array\n",
    "normalizedArray = # Your code goes here\n",
    "\n",
    "# Convert normalized array to dataframe\n",
    "ccOriginalNormalized = pd.DataFrame(normalizedArray, columns=['Avg_Credit_Limit', 'Total_visits_online'])\n",
    "\n",
    "# Print five lines of the normalized data\n",
    "print(ccOriginalNormalized[591:596])"
   ]
  }
 ],
 "metadata": {
  "kernelspec": {
   "display_name": "Python 3 (ipykernel)",
   "language": "python",
   "name": "python3"
  },
  "language_info": {
   "codemirror_mode": {
    "name": "ipython",
    "version": 3
   },
   "file_extension": ".py",
   "mimetype": "text/x-python",
   "name": "python",
   "nbconvert_exporter": "python",
   "pygments_lexer": "ipython3",
   "version": "3.12.4"
  },
  "widgets": {
   "application/vnd.jupyter.widget-state+json": {
    "state": {},
    "version_major": 2,
    "version_minor": 0
   }
  }
 },
 "nbformat": 4,
 "nbformat_minor": 5
}
