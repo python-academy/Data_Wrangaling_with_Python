{
 "cells": [
  {
   "cell_type": "markdown",
   "id": "b78a766d-c8cb-4197-8e09-a017485d36b9",
   "metadata": {},
   "source": [
    "## LAB_Structuring data using scale() and MinMaxScaler()"
   ]
  },
  {
   "cell_type": "code",
   "execution_count": null,
   "id": "bdb72d49-c126-42fb-8490-211e60b91de7",
   "metadata": {},
   "outputs": [],
   "source": [
    "import pandas as pd\n",
    "from sklearn import preprocessing\n",
    "\n",
    "hmeq = # Read in the file hmeq_small.csv\n",
    "\n",
    "# Standardize the data\n",
    "standardized = # Your code here\n",
    "\n",
    "# Output the standardized data as a data frame with column names\n",
    "hmeqStand = # Your code here\n",
    "\n",
    "# Normalize the data\n",
    "normalized = # Your code here\n",
    "\n",
    "# Output the normalized data as a data frame with column names\n",
    "hmeqNorm = # Your code here\n",
    "\n",
    "# Print the means and standard deviations of hmeqStand and hmeqNorm\n",
    "print(\"The means of hmeqStand are \", # Your code here)\n",
    "print(\"The standard deviations of hmeqStand are \", # Your code here)\n",
    "print(\"The means of hmeqNorm are \", # Your code here)\n",
    "print(\"The standard deviations of hmeqNorm are \", # Your code here)"
   ]
  }
 ],
 "metadata": {
  "kernelspec": {
   "display_name": "Python 3 (ipykernel)",
   "language": "python",
   "name": "python3"
  },
  "language_info": {
   "codemirror_mode": {
    "name": "ipython",
    "version": 3
   },
   "file_extension": ".py",
   "mimetype": "text/x-python",
   "name": "python",
   "nbconvert_exporter": "python",
   "pygments_lexer": "ipython3",
   "version": "3.12.4"
  }
 },
 "nbformat": 4,
 "nbformat_minor": 5
}
