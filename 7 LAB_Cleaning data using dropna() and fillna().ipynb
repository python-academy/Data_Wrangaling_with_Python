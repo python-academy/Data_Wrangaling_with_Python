{
 "cells": [
  {
   "cell_type": "markdown",
   "id": "4a668b80-22ee-4cc8-ac50-b1113337cb3f",
   "metadata": {},
   "source": [
    "## lab activity LAB: Cleaning data using dropna() and fillna()"
   ]
  },
  {
   "cell_type": "raw",
   "id": "b63b8b2c-e995-45d0-8618-fbdde65efe75",
   "metadata": {},
   "source": [
    "**The hmeq_small dataset contains information on 5960 home equity loans, including 7 features on the characteristics of the loan.**\n",
    "\n",
    "* **Load the data set hmeq_small.csv as a data frame.**\n",
    "* **Create a new data frame with all the rows with missing data deleted.**\n",
    "* **Create a second data frame with all missing data filled in with the mean value of the column.**\n",
    "* **Find the means of the columns for both new data frames.**\n",
    "  \n",
    "Ex: Using only the first hundred rows, found in hmeq_sample.csv, the output is:\n",
    "\n",
    "**Means for hmeqDelete are**\n",
    "\n",
    "**LOAN        3208.333333**\n",
    "**MORTDUE    67495.958333**\n",
    "**VALUE      82529.125000**\n",
    "**YOJ            8.500000**\n",
    "**CLAGE        144.749455**\n",
    "**CLNO          16.583333**\n",
    "**DEBTINC       33.052122**\n",
    "**dtype: float64**\n",
    "\n",
    "**Means for hmeqReplace are**  \n",
    "\n",
    "**LOAN        3045.918367**\n",
    "**MORTDUE    49386.494253**\n",
    "**VALUE      64033.483871**\n",
    "**YOJ            8.179775**\n",
    "**CLAGE        140.209320**\n",
    "**CLNO          15.586957**\n",
    "**DEBTINC       30.947152**\n",
    "**dtype: float64**\n",
    "\n"
   ]
  },
  {
   "cell_type": "code",
   "execution_count": null,
   "id": "29ad8079-bd6e-4a9d-8555-2da5d25c5b61",
   "metadata": {},
   "outputs": [],
   "source": [
    "import pandas as pd\n",
    "\n",
    "# Read in hmeq_small.csv\n",
    "hmeq = # Your code here\n",
    "\n",
    "# Create a new data frame with the rows with missing values dropped\n",
    "hmeqDelete = # Your code here\n",
    "\n",
    "# Create a new data frame with the missing values filled in by the mean of the column\n",
    "hmeqReplace = # Your code here\n",
    "\n",
    "# Print the means of the columns for each new data frame\n",
    "print(\"Means for hmeqDelete are \", # Your code here)\n",
    "\n",
    "print(\"Means for hmeqReplace are \", # Your code here)"
   ]
  }
 ],
 "metadata": {
  "kernelspec": {
   "display_name": "Python 3 (ipykernel)",
   "language": "python",
   "name": "python3"
  },
  "language_info": {
   "codemirror_mode": {
    "name": "ipython",
    "version": 3
   },
   "file_extension": ".py",
   "mimetype": "text/x-python",
   "name": "python",
   "nbconvert_exporter": "python",
   "pygments_lexer": "ipython3",
   "version": "3.12.4"
  }
 },
 "nbformat": 4,
 "nbformat_minor": 5
}
